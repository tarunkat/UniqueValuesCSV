{
 "cells": [
  {
   "cell_type": "code",
   "execution_count": 19,
   "id": "aa24933d",
   "metadata": {},
   "outputs": [],
   "source": [
    "import os\n",
    "import pandas as pd\n",
    "\n",
    "# Replace 'path_to_folder' with the actual path to your folder containing CSV files\n",
    "cwd = os.getcwd() #Get the current working directory (CWD) \n",
    "path_to_folder = cwd\n",
    "\n",
    "#print(path_to_folder)\n",
    "\n"
   ]
  },
  {
   "cell_type": "code",
   "execution_count": 20,
   "id": "890fab2a",
   "metadata": {},
   "outputs": [
    {
     "name": "stdout",
     "output_type": "stream",
     "text": [
      "Dataframe '12-8-2023_s030l0683-1_SW267':\n",
      "['F414' 'F247M' 'LETTER' 'ADHOC' 'Fact' 'F212' 'F600' 'pdf']\n",
      "==============================\n",
      "Dataframe '11-8-2023_s030l0683-1_SW267':\n",
      "['F414' 'F247M' nan 'F300M' 'ADHOC' 'LETTER' 'F212' 'pdf' 'F214M' 'F600'\n",
      " 'Fact']\n",
      "==============================\n",
      "Dataframe '10-8-2023_s030l0683-3_SW267':\n",
      "['F414' 'F247M' nan 'F300M' 'ADHOC' 'pdf' 'F212' 'LETTER' 'F600' 'F214M']\n",
      "==============================\n",
      "Dataframe '14-8-2023_s030l0683-1_SW267':\n",
      "['F414' 'ADHOC' 'F300M' 'LETTER' nan 'pdf' 'F247M' 'F600' 'F212' 'F214M']\n",
      "==============================\n",
      "Dataframe '13-8-2023_s030l0683-3_SW267':\n",
      "['F414' 'F247M' 'F300M' 'ADHOC' 'F212' 'F600' 'Inbound communication']\n",
      "==============================\n",
      "Dataframe '9-8-2023_s030l0683-1_SW267':\n",
      "['F414' 'F247M' 'F300M' 'LETTER' 'ADHOC' nan 'pdf' 'F600' 'F212' 'F214M']\n",
      "==============================\n",
      "Dataframe '12-8-2023_s030l0683-3_SW267':\n",
      "['F414' 'F247M' 'LETTER' 'Fact' 'F600' 'F212' 'F300M' 'ADHOC' 'pdf']\n",
      "==============================\n",
      "Dataframe '11-8-2023_s030l0683-3_SW267':\n",
      "['F414' 'F247M' nan 'ADHOC' 'F300M' 'LETTER' 'F212' 'F600' 'pdf' 'F214M']\n",
      "==============================\n",
      "Dataframe '10-8-2023_s030l0683-1_SW267':\n",
      "['F414' 'pdf' 'F600' 'F245M' 'F247M' nan 'F300M' 'ADHOC' 'F214M' 'LETTER'\n",
      " 'F212']\n",
      "==============================\n",
      "Dataframe '13-8-2023_s030l0683-1_SW267':\n",
      "['F414' 'F247M' 'F300M' 'F212' 'F600' 'Inbound communication']\n",
      "==============================\n",
      "Dataframe '14-8-2023_s030l0683-3_SW267':\n",
      "['F414' 'F245M' 'LETTER' 'ADHOC' 'F300M' 'Feb.' 'Fact' 'F247M' 'F214M'\n",
      " 'F600' 'pdf' 'F212']\n",
      "==============================\n",
      "Dataframe '9-8-2023_s030l0683-3_SW267':\n",
      "['F414' 'F247M' 'LETTER' 'F300M' 'ADHOC' nan 'F212' 'F214M' 'pdf' 'F600']\n",
      "==============================\n"
     ]
    }
   ],
   "source": [
    "# List all the files in the folder\n",
    "file_list = os.listdir(path_to_folder)\n",
    "\n",
    "# Filter out only the CSV files\n",
    "csv_files = [file for file in file_list if file.endswith('.csv')]\n",
    "\n",
    "# Create an empty dictionary to store dataframes\n",
    "dataframes = {}\n",
    "\n",
    "# Read CSV files and store them in dataframes\n",
    "for csv_file in csv_files:\n",
    "    file_path = os.path.join(path_to_folder, csv_file)\n",
    "    df_name = os.path.splitext(csv_file)[0]  # Use file name as the dataframe name\n",
    "    dataframes[df_name] = pd.read_csv(file_path)\n",
    "\n",
    "# Now dataframes dictionary contains all your dataframes\n",
    "# You can access them using keys (which are the CSV file names without the extension)\n",
    "for df_name, df in dataframes.items():\n",
    "    print(f\"Dataframe '{df_name}':\")\n",
    "    second_column = df.iloc[:, 1]\n",
    "    unique_values = second_column.unique()  # Get unique values\n",
    "    print((unique_values))\n",
    "    #print(df.columns)\n",
    "    print(\"=\" * 30)"
   ]
  },
  {
   "cell_type": "code",
   "execution_count": null,
   "id": "ea40f19f",
   "metadata": {},
   "outputs": [],
   "source": []
  }
 ],
 "metadata": {
  "kernelspec": {
   "display_name": "Python 3 (ipykernel)",
   "language": "python",
   "name": "python3"
  },
  "language_info": {
   "codemirror_mode": {
    "name": "ipython",
    "version": 3
   },
   "file_extension": ".py",
   "mimetype": "text/x-python",
   "name": "python",
   "nbconvert_exporter": "python",
   "pygments_lexer": "ipython3",
   "version": "3.9.7"
  }
 },
 "nbformat": 4,
 "nbformat_minor": 5
}
